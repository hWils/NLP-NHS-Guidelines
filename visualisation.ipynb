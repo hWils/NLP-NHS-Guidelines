{
 "cells": [
  {
   "cell_type": "code",
   "execution_count": 2,
   "metadata": {},
   "outputs": [],
   "source": [
    "import pandas as pd\n",
    "import networkx as nx\n",
    "import matplotlib.pyplot as plt\n",
    "from pyvis.network import Network\n",
    "import netgraph"
   ]
  },
  {
   "cell_type": "markdown",
   "metadata": {},
   "source": [
    "### View markdown as html document"
   ]
  },
  {
   "cell_type": "code",
   "execution_count": null,
   "metadata": {},
   "outputs": [],
   "source": [
    "# this method can be used to view the markdown version of the ouput in a browser\n",
    "def display_markdown(markdown_text):\n",
    "    html = markdown.markdown(markdown_text)\n",
    "    with open(markdown_text +'_output.html', 'w') as f:\n",
    "        f.write(html)\n",
    "    webbrowser.open_new_tab('file://' + os.path.abspath(markdown_text+'_output.html'))\n",
    "   # webbrowser.open('output.html')"
   ]
  },
  {
   "cell_type": "markdown",
   "metadata": {},
   "source": [
    "### View knowledge graphs"
   ]
  },
  {
   "cell_type": "code",
   "execution_count": null,
   "metadata": {},
   "outputs": [],
   "source": [
    "def create_graph_from_df(df):\n",
    "    G = nx.Graph()\n",
    "    for index, row in df.iterrows():\n",
    "        entity = row['Entity']\n",
    "        relation = row['Relation']\n",
    "\n",
    "        # Add entity nodes to the graph\n",
    "        G.add_node(entity)\n",
    "\n",
    "        # Add relation edges to the graph\n",
    "        if relation != '':\n",
    "            G.add_edge(entity, relation)\n",
    "    return G"
   ]
  },
  {
   "cell_type": "code",
   "execution_count": 1,
   "metadata": {},
   "outputs": [],
   "source": [
    "def display_graph(graph, title = 'Knowledge graph for version'):\n",
    "    node_colors = {}\n",
    "    for node in graph.nodes():\n",
    "        node_colors[node] = 'skyblue'\n",
    "    # Create a figure for the knowledge graph\n",
    "    fig, ax = plt.subplots(figsize=(10, 7))\n",
    "    # Plot the knowledge graph\n",
    "    pos = nx.spring_layout(graph1)\n",
    "    nx.draw(graph, with_labels=True, ax=ax, pos=pos, node_color=[node_colors[node] for node in graph1.nodes()],\n",
    "            node_size=1500, font_size=10, font_weight='bold', edge_color='gray', style='dashed', width=1.5)\n",
    "    ax.set_title(\"Knowledge Graph\")\n",
    "\n",
    "    # Add a legend for node colors\n",
    "    legend_colors = {'Entities': 'skyblue'}\n",
    "    ax.legend(handles=[plt.Line2D([0], [0], marker='o', color=color, label=label, markersize=10)\n",
    "                        for label, color in legend_colors.items()], loc='upper left')\n",
    "\n",
    "    # Set the title for the visualization\n",
    "    plt.title(title)\n",
    "    # Show the plot\n",
    "    plt.show()"
   ]
  },
  {
   "cell_type": "markdown",
   "metadata": {},
   "source": [
    "### Directed knowledge graph"
   ]
  },
  {
   "cell_type": "code",
   "execution_count": null,
   "metadata": {},
   "outputs": [],
   "source": [
    "def view_directed_knowledgegraph(knowledge_graph):\n",
    "    # Create a directed graph\n",
    "    G = nx.DiGraph()\n",
    "\n",
    "    # Add nodes to the graph\n",
    "    for entity in knowledge_graph['entities']:\n",
    "        G.add_node(entity['text'], type=entity['type'])\n",
    "\n",
    "    # Add edges to the graph\n",
    "    for rel in knowledge_graph['relationships']:\n",
    "        G.add_edge(rel['source'], rel['target'], relation=rel['relation'])\n",
    "\n",
    "    # Set node positions for visualization\n",
    "    pos = nx.spring_layout(G, seed=42)\n",
    "\n",
    "    # Draw the graph\n",
    "    fig, ax = plt.subplots(figsize=(12, 8))\n",
    "    nx.draw(G, pos, with_labels=True, node_size=1500, node_color='skyblue', font_size=12, font_weight='bold', arrowsize=15, arrowstyle='fancy', width=2.0, edge_color='gray', ax=ax)\n",
    "    edge_labels = nx.get_edge_attributes(G, 'relation')\n",
    "    nx.draw_networkx_edge_labels(G, pos, edge_labels=edge_labels, font_size=10, font_color='black', bbox=dict(boxstyle='round,pad=0.2', edgecolor='gray', facecolor='white', alpha=0.9), ax=ax)\n",
    "\n",
    "    # Show the visualization\n",
    "    plt.title(\"Directed Knowledge Graph Visualization\")\n",
    "    plt.axis('off')\n",
    "    plt.tight_layout()\n",
    "    plt.show()"
   ]
  }
 ],
 "metadata": {
  "kernelspec": {
   "display_name": "base",
   "language": "python",
   "name": "python3"
  },
  "language_info": {
   "codemirror_mode": {
    "name": "ipython",
    "version": 3
   },
   "file_extension": ".py",
   "mimetype": "text/x-python",
   "name": "python",
   "nbconvert_exporter": "python",
   "pygments_lexer": "ipython3",
   "version": "3.10.9"
  },
  "orig_nbformat": 4
 },
 "nbformat": 4,
 "nbformat_minor": 2
}
