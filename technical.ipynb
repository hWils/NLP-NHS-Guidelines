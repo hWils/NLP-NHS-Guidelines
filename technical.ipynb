{
 "cells": [
  {
   "cell_type": "code",
   "execution_count": 31,
   "metadata": {},
   "outputs": [],
   "source": [
    "\n",
    "import os\n",
    "import pandas as pd\n",
    "from readability import Readability\n",
    "import nltk\n",
    "from bert_score import score\n",
    "from pprint import pprint\n",
    "from botocore.exceptions import ClientError\n",
    "import openai\n",
    "from difflib import SequenceMatcher\n",
    "import re\n",
    "import mammoth\n",
    "import openai\n",
    "from dotenv import load_dotenv"
   ]
  },
  {
   "cell_type": "code",
   "execution_count": 32,
   "metadata": {},
   "outputs": [],
   "source": [
    "# Load environment variables from .env file\n",
    "load_dotenv()\n",
    "\n",
    "openai.api_key = os.environ.get('OPENAI_API_KEY')\n",
    "openai.organization = 'org-WD3x2XVqrr4UO8u1zjuYSyXZ' "
   ]
  },
  {
   "cell_type": "code",
   "execution_count": 33,
   "metadata": {},
   "outputs": [],
   "source": [
    "root_file = 'C:\\\\Users\\\\dedbl\\\\Documents\\\\NHSPolicy\\\\'\n",
    "drug  = 'phenytoin'#'monofer'#'amikacin'"
   ]
  },
  {
   "cell_type": "code",
   "execution_count": 38,
   "metadata": {},
   "outputs": [],
   "source": [
    "# given this document, which of these questions have not been answered\n",
    "extra_resource = root_file + 'extra_resources\\\\'\n",
    "    \n",
    "with open(extra_resource+ drug+'.txt', \"r\") as docx_file:\n",
    "    info_prompt = docx_file.read()\n",
    "\n",
    "generate_questions = \"\"\"You are a nurse administering IV medication,\n",
    "what questions would you need to be ask a technical expert, to generate the following text? \n",
    "Give the output directly as a list of numbered questions - TEXT: \"\"\" + info_prompt\n",
    "\n",
    "questions = openai.ChatCompletion.create(\n",
    "        model = \"gpt-4\",\n",
    "        messages=[{\"role\": \"user\", \"content\": generate_questions}],\n",
    "        max_tokens = 1000,\n",
    "        temperature = 0\n",
    "        )\n",
    "questions = questions[\"choices\"][0][\"message\"][\"content\"]"
   ]
  },
  {
   "cell_type": "code",
   "execution_count": null,
   "metadata": {},
   "outputs": [
    {
     "name": "stdout",
     "output_type": "stream",
     "text": [
      "1. What is the pharmaceutical form of the medication?\n",
      "2. What is the appearance of the medication?\n",
      "3. What is the pH and osmolarity of the reconstituted solution?\n",
      "4. What are the therapeutic indications of the medication?\n",
      "5. What is the recommended dosage and method of administration for adults and children?\n",
      "6. Are there any dosage adjustments for patients with hepatic or renal impairment?\n",
      "7. What are the contraindications of the medication?\n",
      "8. What are the special warnings and precautions for use?\n",
      "9. What are the potential interactions with other medicinal products?\n",
      "10. What are the effects of the medication on fertility, pregnancy, and lactation?\n",
      "11. What are the potential effects on the ability to drive and use machines?\n",
      "12. What are the undesirable effects of the medication?\n",
      "13. What should be done in case of an overdose?\n",
      "14. What are the pharmacological properties of the medication?\n",
      "15. What are the preclinical safety data?\n",
      "16. What are the pharmaceutical particulars of the medication?\n",
      "17. What are the special precautions for disposal and other handling of the medication?\n"
     ]
    }
   ],
   "source": [
    "\n",
    "print(questions)"
   ]
  },
  {
   "cell_type": "code",
   "execution_count": 39,
   "metadata": {},
   "outputs": [
    {
     "name": "stdout",
     "output_type": "stream",
     "text": [
      "Preparation: What precautions should be taken when preparing solutions for parenteral administration?\n",
      "\n",
      "Administration: What is the recommended rate of administration for intravenous phenytoin?\n",
      "\n",
      "Adverse effects and suggested monitoring: What are the potential undesirable effects of phenytoin?\n",
      "\n",
      "Other comments: What are the potential effects of phenytoin on fertility, pregnancy, and lactation?\n",
      "\n",
      "Other comments: What are the potential effects of phenytoin on the ability to drive and use machines?\n",
      "\n",
      "Other comments: What is the recommended course of action in case of an overdose of phenytoin?\n",
      "\n",
      "Other comments: What are the pharmacodynamic properties of phenytoin?\n",
      "\n",
      "Other comments: What are the preclinical safety data for phenytoin?\n",
      "\n",
      "Other comments: What are the pharmaceutical particulars of phenytoin?\n",
      "\n",
      "Compatibility: What are the potential incompatibilities of phenytoin with other drugs?\n"
     ]
    }
   ],
   "source": [
    "# given this document, which of these questions have not been answered\n",
    "\n",
    "# load up drug guideline\n",
    "guideline = root_file + drug + \"_gpt_formatted.md\"\n",
    "with open(guideline, \"r\") as file:\n",
    "    current_guideline = file.read()\n",
    "\n",
    "\n",
    "\n",
    "examine_text = '''You are a nurse following a guideline for administering IV medication. You need to find questions from the list provided \n",
    "which are NOT already answered by the guideline you are given. Find the unanswered questions. \n",
    "As well as the question, output section heading from the guideline most related to the question.\n",
    "The output format will be the heading: followed by the questions.\n",
    "Only output a maximum of ten questions in total across all sections.\n",
    "These are the questions ''' + questions + '. This is the guideline text: ' + current_guideline\n",
    "\n",
    "technical_suggestions = openai.ChatCompletion.create(\n",
    "        model = \"gpt-4\",\n",
    "        messages=[{\"role\": \"user\", \"content\": examine_text}],\n",
    "        max_tokens = 2500,\n",
    "        temperature = 0\n",
    "        )\n",
    "\n",
    "technical_suggestions = technical_suggestions[\"choices\"][0][\"message\"][\"content\"]\n",
    "print(technical_suggestions)\n"
   ]
  },
  {
   "cell_type": "code",
   "execution_count": null,
   "metadata": {},
   "outputs": [],
   "source": []
  }
 ],
 "metadata": {
  "kernelspec": {
   "display_name": "base",
   "language": "python",
   "name": "python3"
  },
  "language_info": {
   "codemirror_mode": {
    "name": "ipython",
    "version": 3
   },
   "file_extension": ".py",
   "mimetype": "text/x-python",
   "name": "python",
   "nbconvert_exporter": "python",
   "pygments_lexer": "ipython3",
   "version": "3.10.9"
  },
  "orig_nbformat": 4
 },
 "nbformat": 4,
 "nbformat_minor": 2
}
